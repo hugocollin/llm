{
 "cells": [
  {
   "cell_type": "code",
   "execution_count": 1,
   "metadata": {},
   "outputs": [],
   "source": [
    "# import sqlite\n",
    "import sqlite3\n",
    "import os\n",
    "import sys\n",
    "\n",
    "# Add the parent directory to the sys.path\n",
    "sys.path.append('../')\n",
    "# Correct the import statement\n",
    "from pipelines import PDFPipeline\n"
   ]
  },
  {
   "cell_type": "code",
   "execution_count": 2,
   "metadata": {},
   "outputs": [],
   "source": [
    "pdf = PDFPipeline()"
   ]
  },
  {
   "cell_type": "code",
   "execution_count": 5,
   "metadata": {},
   "outputs": [
    {
     "name": "stdout",
     "output_type": "stream",
     "text": [
      "PDF traité avec succès et stocké sous discussion_id : eabdaf6e-20f2-4cf0-a171-53c3b341ace9\n"
     ]
    }
   ],
   "source": [
    "pdf.process_txt(\"D:/M2 SISE/LLM/Présentation_Cours - Jour 1.pdf\")"
   ]
  },
  {
   "cell_type": "code",
   "execution_count": 6,
   "metadata": {},
   "outputs": [],
   "source": [
    "conn = sqlite3.connect('llm_database.db')\n",
    "\n",
    "db = conn.cursor()\n"
   ]
  },
  {
   "cell_type": "code",
   "execution_count": 7,
   "metadata": {},
   "outputs": [
    {
     "name": "stdout",
     "output_type": "stream",
     "text": [
      "('d2420c39-360c-44a5-afca-2f32f03a7158',)\n",
      "('d2420c39-360c-44a5-afca-2f32f03a7158',)\n",
      "('d2420c39-360c-44a5-afca-2f32f03a7158',)\n",
      "('d2420c39-360c-44a5-afca-2f32f03a7158',)\n",
      "('de2b3580-41ed-49ae-bfeb-e4c16b33e31f',)\n",
      "('de2b3580-41ed-49ae-bfeb-e4c16b33e31f',)\n",
      "('de2b3580-41ed-49ae-bfeb-e4c16b33e31f',)\n",
      "('de2b3580-41ed-49ae-bfeb-e4c16b33e31f',)\n",
      "('39c238d0-c48f-476a-8cc6-e406dddbc1c5',)\n",
      "('39c238d0-c48f-476a-8cc6-e406dddbc1c5',)\n",
      "('39c238d0-c48f-476a-8cc6-e406dddbc1c5',)\n",
      "('39c238d0-c48f-476a-8cc6-e406dddbc1c5',)\n",
      "('696bef8c-8b51-47bb-aba7-8e2725a76949',)\n",
      "('696bef8c-8b51-47bb-aba7-8e2725a76949',)\n",
      "('696bef8c-8b51-47bb-aba7-8e2725a76949',)\n",
      "('696bef8c-8b51-47bb-aba7-8e2725a76949',)\n",
      "('32b10ade-96b9-4cf6-9825-5ba25383ee8b',)\n",
      "('32b10ade-96b9-4cf6-9825-5ba25383ee8b',)\n",
      "('32b10ade-96b9-4cf6-9825-5ba25383ee8b',)\n",
      "('32b10ade-96b9-4cf6-9825-5ba25383ee8b',)\n",
      "('a12e43eb-7ec4-4945-b7cb-6651aba70157',)\n",
      "('eabdaf6e-20f2-4cf0-a171-53c3b341ace9',)\n"
     ]
    }
   ],
   "source": [
    "# afficher les elements de la table discussions\n",
    "db.execute(\"SELECT discussion_id FROM discussions\")\n",
    "\n",
    "for row in db.fetchall():\n",
    "    print(row)"
   ]
  },
  {
   "cell_type": "code",
   "execution_count": 8,
   "metadata": {},
   "outputs": [
    {
     "name": "stdout",
     "output_type": "stream",
     "text": [
      "(22,)\n"
     ]
    }
   ],
   "source": [
    "# compter le nombre de lignes dans la table discussions\n",
    "db.execute(\"SELECT COUNT(*) FROM discussions\")\n",
    "print(db.fetchone())"
   ]
  }
 ],
 "metadata": {
  "kernelspec": {
   "display_name": "llm_env",
   "language": "python",
   "name": "python3"
  },
  "language_info": {
   "codemirror_mode": {
    "name": "ipython",
    "version": 3
   },
   "file_extension": ".py",
   "mimetype": "text/x-python",
   "name": "python",
   "nbconvert_exporter": "python",
   "pygments_lexer": "ipython3",
   "version": "3.11.11"
  }
 },
 "nbformat": 4,
 "nbformat_minor": 2
}
