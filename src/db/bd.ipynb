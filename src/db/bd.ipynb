{
 "cells": [
  {
   "cell_type": "code",
   "execution_count": 1,
   "metadata": {},
   "outputs": [],
   "source": [
    "# import sqlite\n",
    "import sqlite3\n",
    "import os\n",
    "import sys\n",
    "\n",
    "# Add the parent directory to the sys.path\n",
    "sys.path.append('../')\n",
    "# Correct the import statement\n",
    "from pipelines import PDFPipeline\n"
   ]
  },
  {
   "cell_type": "code",
   "execution_count": 2,
   "metadata": {},
   "outputs": [],
   "source": [
    "pdf = PDFPipeline()"
   ]
  },
  {
   "cell_type": "code",
   "execution_count": 7,
   "metadata": {},
   "outputs": [
    {
     "name": "stdout",
     "output_type": "stream",
     "text": [
      "PDF traité avec succès et stocké sous discussion_id : 39c238d0-c48f-476a-8cc6-e406dddbc1c5\n"
     ]
    }
   ],
   "source": [
    "pdf.process_pdf(\"Présentation_Cours - Jour 1.pdf\")"
   ]
  },
  {
   "cell_type": "code",
   "execution_count": 4,
   "metadata": {},
   "outputs": [],
   "source": [
    "conn = sqlite3.connect('llm_database.db')\n",
    "\n",
    "db = conn.cursor()\n"
   ]
  },
  {
   "cell_type": "code",
   "execution_count": 9,
   "metadata": {},
   "outputs": [
    {
     "name": "stdout",
     "output_type": "stream",
     "text": [
      "('d2420c39-360c-44a5-afca-2f32f03a7158',)\n",
      "('d2420c39-360c-44a5-afca-2f32f03a7158',)\n",
      "('d2420c39-360c-44a5-afca-2f32f03a7158',)\n",
      "('d2420c39-360c-44a5-afca-2f32f03a7158',)\n",
      "('de2b3580-41ed-49ae-bfeb-e4c16b33e31f',)\n",
      "('de2b3580-41ed-49ae-bfeb-e4c16b33e31f',)\n",
      "('de2b3580-41ed-49ae-bfeb-e4c16b33e31f',)\n",
      "('de2b3580-41ed-49ae-bfeb-e4c16b33e31f',)\n",
      "('39c238d0-c48f-476a-8cc6-e406dddbc1c5',)\n",
      "('39c238d0-c48f-476a-8cc6-e406dddbc1c5',)\n",
      "('39c238d0-c48f-476a-8cc6-e406dddbc1c5',)\n",
      "('39c238d0-c48f-476a-8cc6-e406dddbc1c5',)\n"
     ]
    }
   ],
   "source": [
    "# afficher les elements de la table discussions\n",
    "db.execute(\"SELECT discussion_id FROM discussions\")\n",
    "\n",
    "for row in db.fetchall():\n",
    "    print(row)"
   ]
  },
  {
   "cell_type": "code",
   "execution_count": 8,
   "metadata": {},
   "outputs": [
    {
     "name": "stdout",
     "output_type": "stream",
     "text": [
      "(12,)\n"
     ]
    }
   ],
   "source": [
    "# compter le nombre de lignes dans la table discussions\n",
    "db.execute(\"SELECT COUNT(*) FROM discussions\")\n",
    "print(db.fetchone())"
   ]
  }
 ],
 "metadata": {
  "kernelspec": {
   "display_name": "env10",
   "language": "python",
   "name": "python3"
  },
  "language_info": {
   "codemirror_mode": {
    "name": "ipython",
    "version": 3
   },
   "file_extension": ".py",
   "mimetype": "text/x-python",
   "name": "python",
   "nbconvert_exporter": "python",
   "pygments_lexer": "ipython3",
   "version": "3.10.0"
  }
 },
 "nbformat": 4,
 "nbformat_minor": 2
}
