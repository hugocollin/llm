{
 "cells": [
  {
   "cell_type": "code",
   "execution_count": 1,
   "metadata": {},
   "outputs": [],
   "source": [
    "# Import package\n",
    "import pandas as pd\n",
    "import numpy as np\n",
    "import os\n",
    "import sys\n",
    "sys.path.append(os.path.dirname(os.path.dirname(os.getcwd())))\n",
    "from src.db.vector_store import VectorStore\n",
    "from src.rag.embedding_base import EmbeddingBase\n",
    "from src.rag.mistral_embedding import MistralEmbedding\n",
    "from src.rag.gemini_embedding import GoogleEmbedding\n",
    "from src.rag.rag_retriever import RagRetriever, RAGMetrics"
   ]
  },
  {
   "cell_type": "code",
   "execution_count": 2,
   "metadata": {},
   "outputs": [],
   "source": [
    "# Define the API keys here\n",
    "MISTRAL_API_KEY= \"\"\n",
    "GEMINI_API_KEY = \"\""
   ]
  },
  {
   "cell_type": "code",
   "execution_count": 3,
   "metadata": {},
   "outputs": [],
   "source": [
    "# Modele embedding mistral\n",
    "google_embedding = GoogleEmbedding(GEMINI_API_KEY)"
   ]
  },
  {
   "cell_type": "code",
   "execution_count": 4,
   "metadata": {},
   "outputs": [],
   "source": [
    "vector_store = VectorStore(\n",
    "    gemini_api_key=GEMINI_API_KEY,\n",
    "    mistral_api_key=MISTRAL_API_KEY  # Paramètre obligatoire mais non utilisé ici\n",
    ")"
   ]
  },
  {
   "cell_type": "code",
   "execution_count": 5,
   "metadata": {},
   "outputs": [],
   "source": [
    "retriever = RagRetriever(\n",
    "    modele_embedding=google_embedding,\n",
    "    vector_store=vector_store,\n",
    "    nombre_resultats=5,\n",
    "    prix_tokens={\"input\": 0.50, \"output\": 1.50}  # Exemple de coûts\n",
    ")"
   ]
  },
  {
   "cell_type": "code",
   "execution_count": 6,
   "metadata": {},
   "outputs": [
    {
     "name": "stdout",
     "output_type": "stream",
     "text": [
      "Documents ajoutés avec IDs : ['doc_-2412211889263932192', 'doc_-4052915018708320956']\n"
     ]
    }
   ],
   "source": [
    "# Ajout de documents\n",
    "documents = [\n",
    "    \"\"\"Les Transformers sont des architectures de deep learning introduites en 2017.\n",
    "    Ils utilisent des mécanismes d'attention et sont particulièrement efficaces pour le NLP.\"\"\",\n",
    "    \n",
    "    \"\"\"Le RAG (Retrieval-Augmented Generation) combine recherche d'information et génération de texte.\n",
    "    Il utilise typiquement un système de retrieval vectoriel et un LLM pour produire des réponses.\"\"\"\n",
    "]\n",
    "\n",
    "try:\n",
    "    document_ids = retriever.ajouter_documents(\n",
    "        textes=documents,\n",
    "        metadonnees=[\n",
    "            {\"source\": \"wikipedia\", \"auteur\": \"IA\"},\n",
    "            {\"source\": \"arxiv\", \"annee\": 2020}\n",
    "        ]\n",
    "    )\n",
    "    print(f\"Documents ajoutés avec IDs : {document_ids}\")\n",
    "except Exception as e:\n",
    "    print(f\"Erreur lors de l'ajout des documents : {str(e)}\")"
   ]
  },
  {
   "cell_type": "code",
   "execution_count": 7,
   "metadata": {},
   "outputs": [
    {
     "name": "stderr",
     "output_type": "stream",
     "text": [
      "Number of requested results 5 is greater than number of elements in index 2, updating n_results = 2\n",
      "Aucun document ne dépasse le seuil de similarité.\n"
     ]
    },
    {
     "name": "stdout",
     "output_type": "stream",
     "text": [
      "\n",
      "=== Prompt généré ===\n",
      "\n",
      "Contexte:\n",
      "Aucun document pertinent trouvé.\n",
      "\n",
      "Question: Qu'est-ce qu'un modèle Transformer ?\n",
      "\n",
      "Instructions:\n",
      "- Utilisez uniquement les informations fournies dans le contexte ci-dessus\n",
      "- Si vous ne pouvez pas répondre à partir du contexte, dites-le clairement\n",
      "- Citez les passages pertinents du contexte pour justifier votre réponse\n",
      "- Restez factuel et précis\n",
      "\n",
      "Réponse:\n",
      "\n",
      "=== Métriques ===\n",
      "Latence totale : 0.27s\n",
      "Coût estimé : €0.00000\n",
      "Tokens d'entrée : 0\n"
     ]
    }
   ],
   "source": [
    "question = \"Qu'est-ce qu'un modèle Transformer ?\"\n",
    "\n",
    "try:\n",
    "    # Récupération et construction du prompt\n",
    "    prompt_final = retriever.recuperer_et_construire(\n",
    "        question=question,\n",
    "        seuil_similarite=0.65\n",
    "    )\n",
    "    \n",
    "    print(\"\\n=== Prompt généré ===\")\n",
    "    print(prompt_final)\n",
    "    \n",
    "    # Affichage des métriques\n",
    "    print(\"\\n=== Métriques ===\")\n",
    "    print(f\"Latence totale : {retriever.last_latency:.2f}s\")\n",
    "    print(f\"Coût estimé : €{retriever.last_metrics.cout_euros:.5f}\")\n",
    "    print(f\"Tokens d'entrée : {retriever.last_metrics.tokens_entree}\")\n",
    "    \n",
    "except Exception as e:\n",
    "    print(f\"Erreur lors du traitement : {str(e)}\")\n"
   ]
  },
  {
   "cell_type": "code",
   "execution_count": 8,
   "metadata": {},
   "outputs": [
    {
     "name": "stdout",
     "output_type": "stream",
     "text": [
      "\n",
      "PDF 'sample.pdf' indexé avec 1 chunks\n"
     ]
    }
   ],
   "source": [
    "def charger_et_indexer_pdf(chemin_pdf: str):\n",
    "    try:\n",
    "        # Lecture et découpage du PDF\n",
    "        texte_complet = vector_store.lire_pdf(chemin_pdf)\n",
    "        chunks = vector_store.decouper_texte(texte_complet, taille_chunk=300)\n",
    "        \n",
    "        # Indexation des chunks\n",
    "        retriever.ajouter_documents(\n",
    "            textes=chunks,\n",
    "            metadonnees=[{\"source\": chemin_pdf}] * len(chunks)\n",
    "        )\n",
    "        print(f\"\\nPDF '{chemin_pdf}' indexé avec {len(chunks)} chunks\")\n",
    "        \n",
    "    except Exception as e:\n",
    "        print(f\"Erreur PDF : {str(e)}\")\n",
    "\n",
    "charger_et_indexer_pdf(\"sample.pdf\")"
   ]
  }
 ],
 "metadata": {
  "kernelspec": {
   "display_name": "env10",
   "language": "python",
   "name": "python3"
  },
  "language_info": {
   "codemirror_mode": {
    "name": "ipython",
    "version": 3
   },
   "file_extension": ".py",
   "mimetype": "text/x-python",
   "name": "python",
   "nbconvert_exporter": "python",
   "pygments_lexer": "ipython3",
   "version": "3.10.0"
  }
 },
 "nbformat": 4,
 "nbformat_minor": 2
}
