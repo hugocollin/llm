{
 "cells": [
  {
   "cell_type": "code",
   "execution_count": null,
   "metadata": {},
   "outputs": [],
   "source": [
    "from promptClassifier import PromptClassifier\n",
    "\n",
    "prompt_classifier = PromptClassifier()\n",
    "\n",
    "X_train = [\"This is a safe prompt.\", \"SELECT * FROM users WHERE id=1;\"]\n",
    "y_train = [0, 1]  # 0 = safe, 1 = unsafe\n",
    "\n",
    "X_test = [\"Tell me about the weather.\", \"' OR 1=1; DROP TABLE users; --\"]\n",
    "y_test = [0, 1]\n",
    "\n",
    "prompt_classifier.prepare_data(X_train, y_train, X_test, y_test)\n"
   ]
  }
 ],
 "metadata": {
  "kernelspec": {
   "display_name": "llm",
   "language": "python",
   "name": "python3"
  },
  "language_info": {
   "name": "python",
   "version": "3.11.11"
  }
 },
 "nbformat": 4,
 "nbformat_minor": 2
}
